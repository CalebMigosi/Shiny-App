{
 "cells": [
  {
   "cell_type": "code",
   "execution_count": null,
   "metadata": {},
   "outputs": [],
   "source": [
    "'''NOTES\n",
    "\n",
    "OBJECTIVE: Cash Flow Projection\n",
    "The objective is to project the expected cash flows for the year. The specific instruments we focus on are:\n",
    "\n",
    "1) Fixed rate bonds\n",
    "2) Floating rate bonds\n",
    "3) Inflation\n",
    "4) Equities (Dividends)\n",
    "\n",
    "DATA SOURCE: BDA (location: \n",
    "\\\\cerata\\DGCU\\Risques\\6. Risques Métiers\\5. Investissements financiers\\Estimation Cover Ratio\\03 - Application Shiny\\01 - Data\\01 - BDA)\n",
    "'''"
   ]
  },
  {
   "cell_type": "code",
   "execution_count": 1,
   "metadata": {},
   "outputs": [],
   "source": [
    "#Import Packages\n",
    "import pandas as pd\n",
    "import numpy as np\n",
    "import datetime\n",
    "import os    #Deals with the working directory\n",
    "\n",
    "#To test out any code separate from our kernels\n",
    "%qtconsole"
   ]
  },
  {
   "cell_type": "code",
   "execution_count": 31,
   "metadata": {},
   "outputs": [],
   "source": [
    "#Set the working directory\n",
    "wd = \"\\\\\\\\cerata\\\\DGCU\\\\Risques\\\\6. Risques Métiers\\\\5. Investissements financiers\\\\Estimation Cover Ratio\\\\03 - Application Shiny\"\n",
    "os.chdir(wd)\n",
    "\n",
    "#Read BDA file\n",
    "BDA = pd.read_excel(\"01 - Data\\\\01 - BDA\\\\BDA_Rapport_1_Inv_Mensuel2019-01-07-09-21-16.xlsx\")"
   ]
  },
  {
   "cell_type": "code",
   "execution_count": 23,
   "metadata": {},
   "outputs": [
    {
     "name": "stdout",
     "output_type": "stream",
     "text": [
      "0    AVIVA VIE\n",
      "1    AVIVA VIE\n",
      "2    AVIVA VIE\n",
      "3    AVIVA VIE\n",
      "Name: Libellé société OFA, dtype: object\n"
     ]
    }
   ],
   "source": [
    "print(BDA.iloc[0:4,4])"
   ]
  },
  {
   "cell_type": "code",
   "execution_count": 32,
   "metadata": {},
   "outputs": [
    {
     "ename": "SyntaxError",
     "evalue": "unexpected EOF while parsing (<ipython-input-32-5890e59e4b1b>, line 15)",
     "output_type": "error",
     "traceback": [
      "\u001b[1;36m  File \u001b[1;32m\"<ipython-input-32-5890e59e4b1b>\"\u001b[1;36m, line \u001b[1;32m15\u001b[0m\n\u001b[1;33m    #BDA_bonds = BDA.query('col1 == 1 & col2 == 1')\u001b[0m\n\u001b[1;37m                                                   ^\u001b[0m\n\u001b[1;31mSyntaxError\u001b[0m\u001b[1;31m:\u001b[0m unexpected EOF while parsing\n"
     ]
    }
   ],
   "source": [
    "\"Creating our dataset\"\n",
    "\n",
    "#Filter out the columns of interest\n",
    "cols = [\"Date d'émission\", \"Date de Maturité\",\\\n",
    "        \"Devise de cotation\", \"Libellé Freq paiement de coupon\",\\\n",
    "        \"Interêts / coupons courus\", \"Valeur de remboursement\",\\\n",
    "        \"Libéllé Catégorie Actifs Niveau 2\", \"valeur du taux\"]\n",
    "\n",
    "BDA = BDA.loc[:, cols]\n",
    "BDA = BDA.rename(columns={\"Date d'émission\": \"Date_emission\"})\n",
    "\n",
    "#Filter the asset class\n",
    "bonds = [\"Obligation TF\", \"Obligation TV\", \"Inflation\", \"Produit Structuré et autre Obligation R332 20\"\n",
    "\n",
    "#BDA_bonds = BDA.query('col1 == 1 & col2 == 1')\n"
   ]
  }
 ],
 "metadata": {
  "kernelspec": {
   "display_name": "Python 3",
   "language": "python",
   "name": "python3"
  },
  "language_info": {
   "codemirror_mode": {
    "name": "ipython",
    "version": 3
   },
   "file_extension": ".py",
   "mimetype": "text/x-python",
   "name": "python",
   "nbconvert_exporter": "python",
   "pygments_lexer": "ipython3",
   "version": "3.7.3"
  }
 },
 "nbformat": 4,
 "nbformat_minor": 2
}
